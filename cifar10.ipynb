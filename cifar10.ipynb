{
 "cells": [
  {
   "cell_type": "code",
   "execution_count": 2,
   "metadata": {},
   "outputs": [
    {
     "name": "stderr",
     "output_type": "stream",
     "text": [
      "2023-06-09 17:45:33.622876: I tensorflow/core/platform/cpu_feature_guard.cc:182] This TensorFlow binary is optimized to use available CPU instructions in performance-critical operations.\n",
      "To enable the following instructions: AVX2 FMA, in other operations, rebuild TensorFlow with the appropriate compiler flags.\n"
     ]
    }
   ],
   "source": [
    "import tensorflow as tf"
   ]
  },
  {
   "cell_type": "code",
   "execution_count": 5,
   "metadata": {},
   "outputs": [],
   "source": [
    "import numpy as np \n",
    "import matplotlib.pyplot as plt\n",
    "from tensorflow.keras.layers import Dropout, Input, Conv2D, Dense, Flatten, GlobalMaxPooling2D\n",
    "from tensorflow.keras.models import Model"
   ]
  },
  {
   "cell_type": "code",
   "execution_count": 3,
   "metadata": {},
   "outputs": [
    {
     "name": "stdout",
     "output_type": "stream",
     "text": [
      "Downloading data from https://www.cs.toronto.edu/~kriz/cifar-10-python.tar.gz\n",
      "170498071/170498071 [==============================] - 44s 0us/step\n",
      "x_train.shape: (50000, 32, 32, 3)\n",
      "x_train.shape: (50000,)\n"
     ]
    }
   ],
   "source": [
    "cifar_10 = tf.keras.datasets.cifar10\n",
    "\n",
    "(x_train, y_train), (x_test, y_test) = cifar_10.load_data()\n",
    "x_train, x_test = x_train / 255.0, x_test / 255.0 \n",
    "y_train, y_test = y_train.flatten(), y_test.flatten()\n",
    "\n",
    "print(\"x_train.shape:\", x_train.shape)\n",
    "print(\"x_train.shape:\", y_train.shape )"
   ]
  },
  {
   "cell_type": "code",
   "execution_count": 4,
   "metadata": {},
   "outputs": [
    {
     "name": "stdout",
     "output_type": "stream",
     "text": [
      "Number of classes: 10\n"
     ]
    }
   ],
   "source": [
    "K = len(set(y_train))\n",
    "print(\"Number of classes:\", K)"
   ]
  },
  {
   "cell_type": "code",
   "execution_count": 8,
   "metadata": {},
   "outputs": [],
   "source": [
    "i  = Input(shape=x_train[0].shape)\n",
    "x = Conv2D(32, (3,3), strides=2, activation='relu')(i)\n",
    "x = Conv2D(64, (3,3), strides=2, activation='relu')(x)\n",
    "x = Conv2D(128, (3, 3), strides=2, activation='relu')(x)\n",
    "x = Flatten()(x)\n",
    "x = Dropout(0.5)(x)\n",
    "x = Dense(1024, activation = 'relu')(x)\n",
    "x = Dropout(0.2)(x)\n",
    "x = Dense(K, activation='softmax')(x)\n",
    "\n",
    "model = Model(i, x)"
   ]
  },
  {
   "cell_type": "code",
   "execution_count": 10,
   "metadata": {},
   "outputs": [
    {
     "name": "stdout",
     "output_type": "stream",
     "text": [
      "Epoch 1/15\n",
      "1563/1563 [==============================] - 80s 50ms/step - loss: 1.5753 - accuracy: 0.4224 - val_loss: 1.3253 - val_accuracy: 0.5167\n",
      "Epoch 2/15\n",
      "1563/1563 [==============================] - 89s 57ms/step - loss: 1.2899 - accuracy: 0.5350 - val_loss: 1.1470 - val_accuracy: 0.5905\n",
      "Epoch 3/15\n",
      "1563/1563 [==============================] - 107s 68ms/step - loss: 1.1568 - accuracy: 0.5863 - val_loss: 1.0643 - val_accuracy: 0.6233\n",
      "Epoch 4/15\n",
      "1563/1563 [==============================] - 82s 52ms/step - loss: 1.0690 - accuracy: 0.6207 - val_loss: 1.0585 - val_accuracy: 0.6298\n",
      "Epoch 5/15\n",
      "1563/1563 [==============================] - 87s 55ms/step - loss: 0.9853 - accuracy: 0.6484 - val_loss: 0.9284 - val_accuracy: 0.6737\n",
      "Epoch 6/15\n",
      "1563/1563 [==============================] - 89s 57ms/step - loss: 0.9301 - accuracy: 0.6708 - val_loss: 0.8999 - val_accuracy: 0.6873\n",
      "Epoch 7/15\n",
      "1563/1563 [==============================] - 76s 48ms/step - loss: 0.8764 - accuracy: 0.6887 - val_loss: 0.9012 - val_accuracy: 0.6798\n",
      "Epoch 8/15\n",
      "1563/1563 [==============================] - 77s 49ms/step - loss: 0.8301 - accuracy: 0.7032 - val_loss: 0.8730 - val_accuracy: 0.7039\n",
      "Epoch 9/15\n",
      "1563/1563 [==============================] - 63s 40ms/step - loss: 0.7891 - accuracy: 0.7205 - val_loss: 0.8545 - val_accuracy: 0.7012\n",
      "Epoch 10/15\n",
      "1563/1563 [==============================] - 117s 75ms/step - loss: 0.7659 - accuracy: 0.7269 - val_loss: 0.8427 - val_accuracy: 0.7052\n",
      "Epoch 11/15\n",
      "1563/1563 [==============================] - 73s 47ms/step - loss: 0.7322 - accuracy: 0.7385 - val_loss: 0.8454 - val_accuracy: 0.7063\n",
      "Epoch 12/15\n",
      "1563/1563 [==============================] - 137s 88ms/step - loss: 0.7082 - accuracy: 0.7499 - val_loss: 0.8524 - val_accuracy: 0.7051\n",
      "Epoch 13/15\n",
      "1563/1563 [==============================] - 82s 52ms/step - loss: 0.6897 - accuracy: 0.7562 - val_loss: 0.8137 - val_accuracy: 0.7203\n",
      "Epoch 14/15\n",
      "1563/1563 [==============================] - 81s 52ms/step - loss: 0.6614 - accuracy: 0.7641 - val_loss: 0.8184 - val_accuracy: 0.7126\n",
      "Epoch 15/15\n",
      "1563/1563 [==============================] - 78s 50ms/step - loss: 0.6358 - accuracy: 0.7735 - val_loss: 0.8152 - val_accuracy: 0.7171\n"
     ]
    }
   ],
   "source": [
    "model.compile(optimizer='adam',\n",
    "              loss = 'sparse_categorical_crossentropy',\n",
    "              metrics = ['accuracy']\n",
    "              )\n",
    "r = model.fit(x_train, y_train, validation_data=(x_test, y_test), epochs=15)"
   ]
  },
  {
   "cell_type": "code",
   "execution_count": 1,
   "metadata": {},
   "outputs": [
    {
     "ename": "NameError",
     "evalue": "name 'r' is not defined",
     "output_type": "error",
     "traceback": [
      "\u001b[0;31m---------------------------------------------------------------------------\u001b[0m",
      "\u001b[0;31mNameError\u001b[0m                                 Traceback (most recent call last)",
      "Cell \u001b[0;32mIn[1], line 2\u001b[0m\n\u001b[1;32m      1\u001b[0m \u001b[39mimport\u001b[39;00m \u001b[39mmatplotlib\u001b[39;00m\u001b[39m.\u001b[39;00m\u001b[39mpyplot\u001b[39;00m \u001b[39mas\u001b[39;00m \u001b[39mplt\u001b[39;00m\n\u001b[0;32m----> 2\u001b[0m plt\u001b[39m.\u001b[39mplot(r\u001b[39m.\u001b[39mhistory[\u001b[39m'\u001b[39m\u001b[39mloss\u001b[39m\u001b[39m'\u001b[39m], label \u001b[39m=\u001b[39m \u001b[39m'\u001b[39m\u001b[39mloss\u001b[39m\u001b[39m'\u001b[39m)\n\u001b[1;32m      3\u001b[0m plt\u001b[39m.\u001b[39mplot(r\u001b[39m.\u001b[39mhistory[\u001b[39m'\u001b[39m\u001b[39mval_loss\u001b[39m\u001b[39m'\u001b[39m], label \u001b[39m=\u001b[39m \u001b[39m'\u001b[39m\u001b[39mval_loss\u001b[39m\u001b[39m'\u001b[39m)\n\u001b[1;32m      4\u001b[0m plt\u001b[39m.\u001b[39mlegend()\n",
      "\u001b[0;31mNameError\u001b[0m: name 'r' is not defined"
     ]
    }
   ],
   "source": [
    "import matplotlib.pyplot as plt\n",
    "plt.plot(r.history['loss'], label = 'loss')\n",
    "plt.plot(r.history['val_loss'], label = 'val_loss')\n",
    "plt.legend()\n"
   ]
  },
  {
   "cell_type": "code",
   "execution_count": null,
   "metadata": {},
   "outputs": [],
   "source": []
  }
 ],
 "metadata": {
  "kernelspec": {
   "display_name": "venv",
   "language": "python",
   "name": "venv"
  },
  "language_info": {
   "codemirror_mode": {
    "name": "ipython",
    "version": 3
   },
   "file_extension": ".py",
   "mimetype": "text/x-python",
   "name": "python",
   "nbconvert_exporter": "python",
   "pygments_lexer": "ipython3",
   "version": "3.11.3"
  },
  "orig_nbformat": 4
 },
 "nbformat": 4,
 "nbformat_minor": 2
}
