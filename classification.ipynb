{
 "cells": [
  {
   "cell_type": "code",
   "execution_count": 2,
   "metadata": {},
   "outputs": [
    {
     "name": "stderr",
     "output_type": "stream",
     "text": [
      "2023-05-04 14:56:07.530525: I tensorflow/core/platform/cpu_feature_guard.cc:182] This TensorFlow binary is optimized to use available CPU instructions in performance-critical operations.\n",
      "To enable the following instructions: AVX2 FMA, in other operations, rebuild TensorFlow with the appropriate compiler flags.\n"
     ]
    }
   ],
   "source": [
    "\n",
    "import tensorflow as tf \n",
    "import numpy as np \n",
    "import pandas as pd \n",
    "import matplotlib \n",
    "import sklearn"
   ]
  },
  {
   "cell_type": "code",
   "execution_count": 3,
   "metadata": {},
   "outputs": [
    {
     "name": "stdout",
     "output_type": "stream",
     "text": [
      "2.12.0\n"
     ]
    }
   ],
   "source": [
    "print(tf.__version__)"
   ]
  },
  {
   "cell_type": "code",
   "execution_count": 4,
   "metadata": {},
   "outputs": [],
   "source": [
    "#model_example = model = tf.keras.models.Sequential([ #\n",
    "    #tf.keras.layers.Input(shape=(D,)), #tells keras the size of input vector X\n",
    "    #tf.keras.layers.Dense(1, activation='sigmoid') #tells the output size ex.)1 and activation function\n",
    "#])"
   ]
  },
  {
   "cell_type": "code",
   "execution_count": 5,
   "metadata": {},
   "outputs": [],
   "source": [
    "#model.compile(optimizer='adam', loss='binary_crossentropy', metrics=['accuracy']) #cost and loss function\n",
    "#the optimizer default is adam which is a fancy way of gradient descent \n",
    "#accuracy score is the metric "
   ]
  },
  {
   "cell_type": "code",
   "execution_count": 6,
   "metadata": {},
   "outputs": [],
   "source": [
    "#r = model.fit(X_train, y_train, validation_data=(X_test, y_test), epochs=100)\n",
    "#epoch is number of iterations, in general its trial and error\n",
    "#validation evaluates model that isn't our dataset\n",
    "#plt.plot(r.history['loss'], label='loss')\n",
    "#plt.plot(r.history['val_loss'], label='val_loss')\n",
    "#looking for smooth curve that tapers off at the end"
   ]
  },
  {
   "cell_type": "code",
   "execution_count": 7,
   "metadata": {},
   "outputs": [
    {
     "data": {
      "text/plain": [
       "dict_keys(['data', 'target', 'frame', 'target_names', 'DESCR', 'feature_names', 'filename', 'data_module'])"
      ]
     },
     "execution_count": 7,
     "metadata": {},
     "output_type": "execute_result"
    }
   ],
   "source": [
    "# load in the data\n",
    "from sklearn.datasets import load_breast_cancer\n",
    "\n",
    "data = load_breast_cancer()\n",
    "type(data)\n",
    "data.keys()\n"
   ]
  },
  {
   "cell_type": "code",
   "execution_count": 8,
   "metadata": {},
   "outputs": [
    {
     "data": {
      "text/plain": [
       "(569, 30)"
      ]
     },
     "execution_count": 8,
     "metadata": {},
     "output_type": "execute_result"
    }
   ],
   "source": [
    "data.data.shape #n = samples d = features"
   ]
  },
  {
   "cell_type": "code",
   "execution_count": 9,
   "metadata": {},
   "outputs": [
    {
     "data": {
      "text/plain": [
       "array([0, 0, 0, 0, 0, 0, 0, 0, 0, 0, 0, 0, 0, 0, 0, 0, 0, 0, 0, 1, 1, 1,\n",
       "       0, 0, 0, 0, 0, 0, 0, 0, 0, 0, 0, 0, 0, 0, 0, 1, 0, 0, 0, 0, 0, 0,\n",
       "       0, 0, 1, 0, 1, 1, 1, 1, 1, 0, 0, 1, 0, 0, 1, 1, 1, 1, 0, 1, 0, 0,\n",
       "       1, 1, 1, 1, 0, 1, 0, 0, 1, 0, 1, 0, 0, 1, 1, 1, 0, 0, 1, 0, 0, 0,\n",
       "       1, 1, 1, 0, 1, 1, 0, 0, 1, 1, 1, 0, 0, 1, 1, 1, 1, 0, 1, 1, 0, 1,\n",
       "       1, 1, 1, 1, 1, 1, 1, 0, 0, 0, 1, 0, 0, 1, 1, 1, 0, 0, 1, 0, 1, 0,\n",
       "       0, 1, 0, 0, 1, 1, 0, 1, 1, 0, 1, 1, 1, 1, 0, 1, 1, 1, 1, 1, 1, 1,\n",
       "       1, 1, 0, 1, 1, 1, 1, 0, 0, 1, 0, 1, 1, 0, 0, 1, 1, 0, 0, 1, 1, 1,\n",
       "       1, 0, 1, 1, 0, 0, 0, 1, 0, 1, 0, 1, 1, 1, 0, 1, 1, 0, 0, 1, 0, 0,\n",
       "       0, 0, 1, 0, 0, 0, 1, 0, 1, 0, 1, 1, 0, 1, 0, 0, 0, 0, 1, 1, 0, 0,\n",
       "       1, 1, 1, 0, 1, 1, 1, 1, 1, 0, 0, 1, 1, 0, 1, 1, 0, 0, 1, 0, 1, 1,\n",
       "       1, 1, 0, 1, 1, 1, 1, 1, 0, 1, 0, 0, 0, 0, 0, 0, 0, 0, 0, 0, 0, 0,\n",
       "       0, 0, 1, 1, 1, 1, 1, 1, 0, 1, 0, 1, 1, 0, 1, 1, 0, 1, 0, 0, 1, 1,\n",
       "       1, 1, 1, 1, 1, 1, 1, 1, 1, 1, 1, 0, 1, 1, 0, 1, 0, 1, 1, 1, 1, 1,\n",
       "       1, 1, 1, 1, 1, 1, 1, 1, 1, 0, 1, 1, 1, 0, 1, 0, 1, 1, 1, 1, 0, 0,\n",
       "       0, 1, 1, 1, 1, 0, 1, 0, 1, 0, 1, 1, 1, 0, 1, 1, 1, 1, 1, 1, 1, 0,\n",
       "       0, 0, 1, 1, 1, 1, 1, 1, 1, 1, 1, 1, 1, 0, 0, 1, 0, 0, 0, 1, 0, 0,\n",
       "       1, 1, 1, 1, 1, 0, 1, 1, 1, 1, 1, 0, 1, 1, 1, 0, 1, 1, 0, 0, 1, 1,\n",
       "       1, 1, 1, 1, 0, 1, 1, 1, 1, 1, 1, 1, 0, 1, 1, 1, 1, 1, 0, 1, 1, 0,\n",
       "       1, 1, 1, 1, 1, 1, 1, 1, 1, 1, 1, 1, 0, 1, 0, 0, 1, 0, 1, 1, 1, 1,\n",
       "       1, 0, 1, 1, 0, 1, 0, 1, 1, 0, 1, 0, 1, 1, 1, 1, 1, 1, 1, 1, 0, 0,\n",
       "       1, 1, 1, 1, 1, 1, 0, 1, 1, 1, 1, 1, 1, 1, 1, 1, 1, 0, 1, 1, 1, 1,\n",
       "       1, 1, 1, 0, 1, 0, 1, 1, 0, 1, 1, 1, 1, 1, 0, 0, 1, 0, 1, 0, 1, 1,\n",
       "       1, 1, 1, 0, 1, 1, 0, 1, 0, 1, 0, 0, 1, 1, 1, 0, 1, 1, 1, 1, 1, 1,\n",
       "       1, 1, 1, 1, 1, 0, 1, 0, 0, 1, 1, 1, 1, 1, 1, 1, 1, 1, 1, 1, 1, 1,\n",
       "       1, 1, 1, 1, 1, 1, 1, 1, 1, 1, 1, 1, 0, 0, 0, 0, 0, 0, 1])"
      ]
     },
     "execution_count": 9,
     "metadata": {},
     "output_type": "execute_result"
    }
   ],
   "source": [
    "data.target"
   ]
  },
  {
   "cell_type": "code",
   "execution_count": 10,
   "metadata": {},
   "outputs": [
    {
     "data": {
      "text/plain": [
       "array(['malignant', 'benign'], dtype='<U9')"
      ]
     },
     "execution_count": 10,
     "metadata": {},
     "output_type": "execute_result"
    }
   ],
   "source": [
    "data.target_names"
   ]
  },
  {
   "cell_type": "code",
   "execution_count": 11,
   "metadata": {},
   "outputs": [
    {
     "data": {
      "text/plain": [
       "(569,)"
      ]
     },
     "execution_count": 11,
     "metadata": {},
     "output_type": "execute_result"
    }
   ],
   "source": [
    "data.target.shape"
   ]
  },
  {
   "cell_type": "code",
   "execution_count": 12,
   "metadata": {},
   "outputs": [
    {
     "data": {
      "text/plain": [
       "array(['mean radius', 'mean texture', 'mean perimeter', 'mean area',\n",
       "       'mean smoothness', 'mean compactness', 'mean concavity',\n",
       "       'mean concave points', 'mean symmetry', 'mean fractal dimension',\n",
       "       'radius error', 'texture error', 'perimeter error', 'area error',\n",
       "       'smoothness error', 'compactness error', 'concavity error',\n",
       "       'concave points error', 'symmetry error',\n",
       "       'fractal dimension error', 'worst radius', 'worst texture',\n",
       "       'worst perimeter', 'worst area', 'worst smoothness',\n",
       "       'worst compactness', 'worst concavity', 'worst concave points',\n",
       "       'worst symmetry', 'worst fractal dimension'], dtype='<U23')"
      ]
     },
     "execution_count": 12,
     "metadata": {},
     "output_type": "execute_result"
    }
   ],
   "source": [
    "data.feature_names"
   ]
  },
  {
   "cell_type": "code",
   "execution_count": 13,
   "metadata": {},
   "outputs": [],
   "source": [
    "#practice\n",
    "from sklearn.model_selection import train_test_split\n",
    "X_train, X_test, y_train, y_test = train_test_split(data.data, data.target, test_size = 0.33)"
   ]
  },
  {
   "cell_type": "code",
   "execution_count": 14,
   "metadata": {},
   "outputs": [],
   "source": [
    "N, D = X_train.shape"
   ]
  },
  {
   "cell_type": "code",
   "execution_count": 15,
   "metadata": {},
   "outputs": [
    {
     "data": {
      "text/plain": [
       "(381, 30)"
      ]
     },
     "execution_count": 15,
     "metadata": {},
     "output_type": "execute_result"
    }
   ],
   "source": [
    "N, D"
   ]
  },
  {
   "cell_type": "code",
   "execution_count": 16,
   "metadata": {},
   "outputs": [],
   "source": [
    "from sklearn.preprocessing import StandardScaler\n",
    "\n",
    "scaler = StandardScaler()\n",
    "X_train = scaler.fit_transform(X_train) #fit and transform finds the parameters emulates the real world\n",
    "X_test = scaler.transform(X_test) "
   ]
  },
  {
   "cell_type": "code",
   "execution_count": 17,
   "metadata": {},
   "outputs": [],
   "source": [
    "model = tf.keras.models.Sequential([\n",
    "    tf.keras.layers.Input(shape=(D,)),\n",
    "    tf.keras.layers.Dense(1, activation='sigmoid')])"
   ]
  },
  {
   "cell_type": "code",
   "execution_count": 18,
   "metadata": {},
   "outputs": [],
   "source": [
    "model.compile(optimizer='adam', \n",
    "              loss='binary_crossentropy',\n",
    "              metrics=['accuracy']\n",
    "              )"
   ]
  },
  {
   "cell_type": "code",
   "execution_count": 19,
   "metadata": {},
   "outputs": [
    {
     "name": "stdout",
     "output_type": "stream",
     "text": [
      "Epoch 1/100\n",
      "12/12 [==============================] - 1s 21ms/step - loss: 1.2820 - accuracy: 0.1444 - val_loss: 1.2491 - val_accuracy: 0.1862\n",
      "Epoch 2/100\n",
      "12/12 [==============================] - 0s 5ms/step - loss: 1.1718 - accuracy: 0.1811 - val_loss: 1.1346 - val_accuracy: 0.2234\n",
      "Epoch 3/100\n",
      "12/12 [==============================] - 0s 5ms/step - loss: 1.0680 - accuracy: 0.2336 - val_loss: 1.0294 - val_accuracy: 0.2872\n",
      "Epoch 4/100\n",
      "12/12 [==============================] - 0s 5ms/step - loss: 0.9728 - accuracy: 0.2966 - val_loss: 0.9347 - val_accuracy: 0.3245\n",
      "Epoch 5/100\n",
      "12/12 [==============================] - 0s 5ms/step - loss: 0.8881 - accuracy: 0.4068 - val_loss: 0.8496 - val_accuracy: 0.3617\n",
      "Epoch 6/100\n",
      "12/12 [==============================] - 0s 5ms/step - loss: 0.8133 - accuracy: 0.4646 - val_loss: 0.7744 - val_accuracy: 0.4415\n",
      "Epoch 7/100\n",
      "12/12 [==============================] - 0s 5ms/step - loss: 0.7448 - accuracy: 0.5433 - val_loss: 0.7111 - val_accuracy: 0.5266\n",
      "Epoch 8/100\n",
      "12/12 [==============================] - 0s 5ms/step - loss: 0.6878 - accuracy: 0.6194 - val_loss: 0.6555 - val_accuracy: 0.5957\n",
      "Epoch 9/100\n",
      "12/12 [==============================] - 0s 7ms/step - loss: 0.6386 - accuracy: 0.6667 - val_loss: 0.6071 - val_accuracy: 0.6436\n",
      "Epoch 10/100\n",
      "12/12 [==============================] - 0s 5ms/step - loss: 0.5962 - accuracy: 0.7139 - val_loss: 0.5648 - val_accuracy: 0.6809\n",
      "Epoch 11/100\n",
      "12/12 [==============================] - 0s 5ms/step - loss: 0.5575 - accuracy: 0.7454 - val_loss: 0.5296 - val_accuracy: 0.7340\n",
      "Epoch 12/100\n",
      "12/12 [==============================] - 0s 5ms/step - loss: 0.5256 - accuracy: 0.7953 - val_loss: 0.4983 - val_accuracy: 0.7713\n",
      "Epoch 13/100\n",
      "12/12 [==============================] - 0s 5ms/step - loss: 0.4970 - accuracy: 0.8294 - val_loss: 0.4708 - val_accuracy: 0.8032\n",
      "Epoch 14/100\n",
      "12/12 [==============================] - 0s 5ms/step - loss: 0.4719 - accuracy: 0.8425 - val_loss: 0.4463 - val_accuracy: 0.8245\n",
      "Epoch 15/100\n",
      "12/12 [==============================] - 0s 5ms/step - loss: 0.4492 - accuracy: 0.8661 - val_loss: 0.4249 - val_accuracy: 0.8404\n",
      "Epoch 16/100\n",
      "12/12 [==============================] - 0s 5ms/step - loss: 0.4289 - accuracy: 0.8793 - val_loss: 0.4058 - val_accuracy: 0.8511\n",
      "Epoch 17/100\n",
      "12/12 [==============================] - 0s 5ms/step - loss: 0.4108 - accuracy: 0.8924 - val_loss: 0.3887 - val_accuracy: 0.8670\n",
      "Epoch 18/100\n",
      "12/12 [==============================] - 0s 5ms/step - loss: 0.3941 - accuracy: 0.9029 - val_loss: 0.3732 - val_accuracy: 0.8777\n",
      "Epoch 19/100\n",
      "12/12 [==============================] - 0s 5ms/step - loss: 0.3791 - accuracy: 0.9081 - val_loss: 0.3590 - val_accuracy: 0.8936\n",
      "Epoch 20/100\n",
      "12/12 [==============================] - 0s 4ms/step - loss: 0.3653 - accuracy: 0.9108 - val_loss: 0.3461 - val_accuracy: 0.8989\n",
      "Epoch 21/100\n",
      "12/12 [==============================] - 0s 5ms/step - loss: 0.3525 - accuracy: 0.9186 - val_loss: 0.3342 - val_accuracy: 0.9202\n",
      "Epoch 22/100\n",
      "12/12 [==============================] - 0s 5ms/step - loss: 0.3407 - accuracy: 0.9265 - val_loss: 0.3234 - val_accuracy: 0.9255\n",
      "Epoch 23/100\n",
      "12/12 [==============================] - 0s 5ms/step - loss: 0.3300 - accuracy: 0.9318 - val_loss: 0.3132 - val_accuracy: 0.9202\n",
      "Epoch 24/100\n",
      "12/12 [==============================] - 0s 5ms/step - loss: 0.3197 - accuracy: 0.9370 - val_loss: 0.3039 - val_accuracy: 0.9202\n",
      "Epoch 25/100\n",
      "12/12 [==============================] - 0s 5ms/step - loss: 0.3103 - accuracy: 0.9396 - val_loss: 0.2952 - val_accuracy: 0.9255\n",
      "Epoch 26/100\n",
      "12/12 [==============================] - 0s 5ms/step - loss: 0.3015 - accuracy: 0.9396 - val_loss: 0.2870 - val_accuracy: 0.9255\n",
      "Epoch 27/100\n",
      "12/12 [==============================] - 0s 5ms/step - loss: 0.2932 - accuracy: 0.9396 - val_loss: 0.2795 - val_accuracy: 0.9255\n",
      "Epoch 28/100\n",
      "12/12 [==============================] - 0s 5ms/step - loss: 0.2856 - accuracy: 0.9423 - val_loss: 0.2723 - val_accuracy: 0.9362\n",
      "Epoch 29/100\n",
      "12/12 [==============================] - 0s 5ms/step - loss: 0.2780 - accuracy: 0.9423 - val_loss: 0.2658 - val_accuracy: 0.9362\n",
      "Epoch 30/100\n",
      "12/12 [==============================] - 0s 5ms/step - loss: 0.2714 - accuracy: 0.9423 - val_loss: 0.2593 - val_accuracy: 0.9415\n",
      "Epoch 31/100\n",
      "12/12 [==============================] - 0s 5ms/step - loss: 0.2648 - accuracy: 0.9423 - val_loss: 0.2534 - val_accuracy: 0.9415\n",
      "Epoch 32/100\n",
      "12/12 [==============================] - 0s 5ms/step - loss: 0.2587 - accuracy: 0.9449 - val_loss: 0.2479 - val_accuracy: 0.9468\n",
      "Epoch 33/100\n",
      "12/12 [==============================] - 0s 5ms/step - loss: 0.2528 - accuracy: 0.9475 - val_loss: 0.2426 - val_accuracy: 0.9468\n",
      "Epoch 34/100\n",
      "12/12 [==============================] - 0s 5ms/step - loss: 0.2474 - accuracy: 0.9475 - val_loss: 0.2375 - val_accuracy: 0.9468\n",
      "Epoch 35/100\n",
      "12/12 [==============================] - 0s 5ms/step - loss: 0.2421 - accuracy: 0.9475 - val_loss: 0.2329 - val_accuracy: 0.9468\n",
      "Epoch 36/100\n",
      "12/12 [==============================] - 0s 5ms/step - loss: 0.2372 - accuracy: 0.9475 - val_loss: 0.2282 - val_accuracy: 0.9468\n",
      "Epoch 37/100\n",
      "12/12 [==============================] - 0s 5ms/step - loss: 0.2322 - accuracy: 0.9501 - val_loss: 0.2238 - val_accuracy: 0.9468\n",
      "Epoch 38/100\n",
      "12/12 [==============================] - 0s 5ms/step - loss: 0.2278 - accuracy: 0.9554 - val_loss: 0.2197 - val_accuracy: 0.9468\n",
      "Epoch 39/100\n",
      "12/12 [==============================] - 0s 5ms/step - loss: 0.2234 - accuracy: 0.9554 - val_loss: 0.2157 - val_accuracy: 0.9468\n",
      "Epoch 40/100\n",
      "12/12 [==============================] - 0s 5ms/step - loss: 0.2192 - accuracy: 0.9554 - val_loss: 0.2120 - val_accuracy: 0.9468\n",
      "Epoch 41/100\n",
      "12/12 [==============================] - 0s 5ms/step - loss: 0.2152 - accuracy: 0.9554 - val_loss: 0.2084 - val_accuracy: 0.9468\n",
      "Epoch 42/100\n",
      "12/12 [==============================] - 0s 5ms/step - loss: 0.2114 - accuracy: 0.9580 - val_loss: 0.2049 - val_accuracy: 0.9468\n",
      "Epoch 43/100\n",
      "12/12 [==============================] - 0s 5ms/step - loss: 0.2078 - accuracy: 0.9580 - val_loss: 0.2015 - val_accuracy: 0.9468\n",
      "Epoch 44/100\n",
      "12/12 [==============================] - 0s 5ms/step - loss: 0.2042 - accuracy: 0.9606 - val_loss: 0.1984 - val_accuracy: 0.9468\n",
      "Epoch 45/100\n",
      "12/12 [==============================] - 0s 5ms/step - loss: 0.2008 - accuracy: 0.9606 - val_loss: 0.1953 - val_accuracy: 0.9468\n",
      "Epoch 46/100\n",
      "12/12 [==============================] - 0s 5ms/step - loss: 0.1977 - accuracy: 0.9633 - val_loss: 0.1923 - val_accuracy: 0.9468\n",
      "Epoch 47/100\n",
      "12/12 [==============================] - 0s 5ms/step - loss: 0.1945 - accuracy: 0.9659 - val_loss: 0.1895 - val_accuracy: 0.9468\n",
      "Epoch 48/100\n",
      "12/12 [==============================] - 0s 6ms/step - loss: 0.1915 - accuracy: 0.9659 - val_loss: 0.1867 - val_accuracy: 0.9468\n",
      "Epoch 49/100\n",
      "12/12 [==============================] - 0s 5ms/step - loss: 0.1885 - accuracy: 0.9685 - val_loss: 0.1841 - val_accuracy: 0.9521\n",
      "Epoch 50/100\n",
      "12/12 [==============================] - 0s 5ms/step - loss: 0.1857 - accuracy: 0.9685 - val_loss: 0.1816 - val_accuracy: 0.9521\n",
      "Epoch 51/100\n",
      "12/12 [==============================] - 0s 5ms/step - loss: 0.1831 - accuracy: 0.9685 - val_loss: 0.1791 - val_accuracy: 0.9521\n",
      "Epoch 52/100\n",
      "12/12 [==============================] - 0s 6ms/step - loss: 0.1804 - accuracy: 0.9685 - val_loss: 0.1768 - val_accuracy: 0.9521\n",
      "Epoch 53/100\n",
      "12/12 [==============================] - 0s 5ms/step - loss: 0.1779 - accuracy: 0.9685 - val_loss: 0.1745 - val_accuracy: 0.9574\n",
      "Epoch 54/100\n",
      "12/12 [==============================] - 0s 5ms/step - loss: 0.1754 - accuracy: 0.9711 - val_loss: 0.1722 - val_accuracy: 0.9574\n",
      "Epoch 55/100\n",
      "12/12 [==============================] - 0s 5ms/step - loss: 0.1730 - accuracy: 0.9738 - val_loss: 0.1701 - val_accuracy: 0.9574\n",
      "Epoch 56/100\n",
      "12/12 [==============================] - 0s 5ms/step - loss: 0.1707 - accuracy: 0.9738 - val_loss: 0.1681 - val_accuracy: 0.9574\n",
      "Epoch 57/100\n",
      "12/12 [==============================] - 0s 5ms/step - loss: 0.1685 - accuracy: 0.9738 - val_loss: 0.1661 - val_accuracy: 0.9574\n",
      "Epoch 58/100\n",
      "12/12 [==============================] - 0s 5ms/step - loss: 0.1665 - accuracy: 0.9738 - val_loss: 0.1641 - val_accuracy: 0.9574\n",
      "Epoch 59/100\n",
      "12/12 [==============================] - 0s 5ms/step - loss: 0.1643 - accuracy: 0.9738 - val_loss: 0.1623 - val_accuracy: 0.9574\n",
      "Epoch 60/100\n",
      "12/12 [==============================] - 0s 5ms/step - loss: 0.1623 - accuracy: 0.9738 - val_loss: 0.1604 - val_accuracy: 0.9574\n",
      "Epoch 61/100\n",
      "12/12 [==============================] - 0s 5ms/step - loss: 0.1603 - accuracy: 0.9738 - val_loss: 0.1587 - val_accuracy: 0.9574\n",
      "Epoch 62/100\n",
      "12/12 [==============================] - 0s 5ms/step - loss: 0.1584 - accuracy: 0.9738 - val_loss: 0.1570 - val_accuracy: 0.9574\n",
      "Epoch 63/100\n",
      "12/12 [==============================] - 0s 5ms/step - loss: 0.1566 - accuracy: 0.9738 - val_loss: 0.1553 - val_accuracy: 0.9574\n",
      "Epoch 64/100\n",
      "12/12 [==============================] - 0s 5ms/step - loss: 0.1548 - accuracy: 0.9738 - val_loss: 0.1537 - val_accuracy: 0.9574\n",
      "Epoch 65/100\n",
      "12/12 [==============================] - 0s 5ms/step - loss: 0.1531 - accuracy: 0.9738 - val_loss: 0.1521 - val_accuracy: 0.9574\n",
      "Epoch 66/100\n",
      "12/12 [==============================] - 0s 5ms/step - loss: 0.1513 - accuracy: 0.9738 - val_loss: 0.1506 - val_accuracy: 0.9574\n",
      "Epoch 67/100\n",
      "12/12 [==============================] - 0s 5ms/step - loss: 0.1497 - accuracy: 0.9764 - val_loss: 0.1490 - val_accuracy: 0.9574\n",
      "Epoch 68/100\n",
      "12/12 [==============================] - 0s 5ms/step - loss: 0.1481 - accuracy: 0.9764 - val_loss: 0.1476 - val_accuracy: 0.9574\n",
      "Epoch 69/100\n",
      "12/12 [==============================] - 0s 5ms/step - loss: 0.1466 - accuracy: 0.9764 - val_loss: 0.1462 - val_accuracy: 0.9574\n",
      "Epoch 70/100\n",
      "12/12 [==============================] - 0s 5ms/step - loss: 0.1450 - accuracy: 0.9764 - val_loss: 0.1449 - val_accuracy: 0.9574\n",
      "Epoch 71/100\n",
      "12/12 [==============================] - 0s 5ms/step - loss: 0.1436 - accuracy: 0.9764 - val_loss: 0.1435 - val_accuracy: 0.9574\n",
      "Epoch 72/100\n",
      "12/12 [==============================] - 0s 5ms/step - loss: 0.1421 - accuracy: 0.9764 - val_loss: 0.1422 - val_accuracy: 0.9574\n",
      "Epoch 73/100\n",
      "12/12 [==============================] - 0s 5ms/step - loss: 0.1407 - accuracy: 0.9764 - val_loss: 0.1410 - val_accuracy: 0.9574\n",
      "Epoch 74/100\n",
      "12/12 [==============================] - 0s 5ms/step - loss: 0.1394 - accuracy: 0.9764 - val_loss: 0.1398 - val_accuracy: 0.9574\n",
      "Epoch 75/100\n",
      "12/12 [==============================] - 0s 5ms/step - loss: 0.1381 - accuracy: 0.9764 - val_loss: 0.1386 - val_accuracy: 0.9574\n",
      "Epoch 76/100\n",
      "12/12 [==============================] - 0s 5ms/step - loss: 0.1368 - accuracy: 0.9764 - val_loss: 0.1374 - val_accuracy: 0.9574\n",
      "Epoch 77/100\n",
      "12/12 [==============================] - 0s 5ms/step - loss: 0.1355 - accuracy: 0.9764 - val_loss: 0.1363 - val_accuracy: 0.9574\n",
      "Epoch 78/100\n",
      "12/12 [==============================] - 0s 16ms/step - loss: 0.1343 - accuracy: 0.9764 - val_loss: 0.1352 - val_accuracy: 0.9574\n",
      "Epoch 79/100\n",
      "12/12 [==============================] - 0s 5ms/step - loss: 0.1331 - accuracy: 0.9764 - val_loss: 0.1341 - val_accuracy: 0.9574\n",
      "Epoch 80/100\n",
      "12/12 [==============================] - 0s 5ms/step - loss: 0.1319 - accuracy: 0.9764 - val_loss: 0.1331 - val_accuracy: 0.9574\n",
      "Epoch 81/100\n",
      "12/12 [==============================] - 0s 5ms/step - loss: 0.1308 - accuracy: 0.9790 - val_loss: 0.1321 - val_accuracy: 0.9574\n",
      "Epoch 82/100\n",
      "12/12 [==============================] - 0s 5ms/step - loss: 0.1297 - accuracy: 0.9790 - val_loss: 0.1311 - val_accuracy: 0.9574\n",
      "Epoch 83/100\n",
      "12/12 [==============================] - 0s 5ms/step - loss: 0.1286 - accuracy: 0.9790 - val_loss: 0.1301 - val_accuracy: 0.9574\n",
      "Epoch 84/100\n",
      "12/12 [==============================] - 0s 5ms/step - loss: 0.1276 - accuracy: 0.9790 - val_loss: 0.1292 - val_accuracy: 0.9574\n",
      "Epoch 85/100\n",
      "12/12 [==============================] - 0s 5ms/step - loss: 0.1265 - accuracy: 0.9790 - val_loss: 0.1282 - val_accuracy: 0.9574\n",
      "Epoch 86/100\n",
      "12/12 [==============================] - 0s 5ms/step - loss: 0.1255 - accuracy: 0.9790 - val_loss: 0.1273 - val_accuracy: 0.9574\n",
      "Epoch 87/100\n",
      "12/12 [==============================] - 0s 5ms/step - loss: 0.1246 - accuracy: 0.9790 - val_loss: 0.1264 - val_accuracy: 0.9574\n",
      "Epoch 88/100\n",
      "12/12 [==============================] - 0s 5ms/step - loss: 0.1235 - accuracy: 0.9790 - val_loss: 0.1256 - val_accuracy: 0.9574\n",
      "Epoch 89/100\n",
      "12/12 [==============================] - 0s 5ms/step - loss: 0.1227 - accuracy: 0.9790 - val_loss: 0.1248 - val_accuracy: 0.9574\n",
      "Epoch 90/100\n",
      "12/12 [==============================] - 0s 5ms/step - loss: 0.1217 - accuracy: 0.9816 - val_loss: 0.1239 - val_accuracy: 0.9574\n",
      "Epoch 91/100\n",
      "12/12 [==============================] - 0s 5ms/step - loss: 0.1208 - accuracy: 0.9816 - val_loss: 0.1230 - val_accuracy: 0.9574\n",
      "Epoch 92/100\n",
      "12/12 [==============================] - 0s 5ms/step - loss: 0.1199 - accuracy: 0.9816 - val_loss: 0.1223 - val_accuracy: 0.9574\n",
      "Epoch 93/100\n",
      "12/12 [==============================] - 0s 5ms/step - loss: 0.1191 - accuracy: 0.9816 - val_loss: 0.1215 - val_accuracy: 0.9574\n",
      "Epoch 94/100\n",
      "12/12 [==============================] - 0s 5ms/step - loss: 0.1182 - accuracy: 0.9816 - val_loss: 0.1208 - val_accuracy: 0.9574\n",
      "Epoch 95/100\n",
      "12/12 [==============================] - 0s 5ms/step - loss: 0.1174 - accuracy: 0.9843 - val_loss: 0.1200 - val_accuracy: 0.9574\n",
      "Epoch 96/100\n",
      "12/12 [==============================] - 0s 5ms/step - loss: 0.1166 - accuracy: 0.9843 - val_loss: 0.1193 - val_accuracy: 0.9574\n",
      "Epoch 97/100\n",
      "12/12 [==============================] - 0s 5ms/step - loss: 0.1158 - accuracy: 0.9843 - val_loss: 0.1186 - val_accuracy: 0.9574\n",
      "Epoch 98/100\n",
      "12/12 [==============================] - 0s 5ms/step - loss: 0.1150 - accuracy: 0.9843 - val_loss: 0.1179 - val_accuracy: 0.9574\n",
      "Epoch 99/100\n",
      "12/12 [==============================] - 0s 5ms/step - loss: 0.1143 - accuracy: 0.9843 - val_loss: 0.1172 - val_accuracy: 0.9574\n",
      "Epoch 100/100\n",
      "12/12 [==============================] - 0s 5ms/step - loss: 0.1135 - accuracy: 0.9843 - val_loss: 0.1165 - val_accuracy: 0.9574\n"
     ]
    }
   ],
   "source": [
    "r = model.fit(X_train, y_train, validation_data=(X_test, y_test), epochs=100)"
   ]
  },
  {
   "cell_type": "code",
   "execution_count": 20,
   "metadata": {},
   "outputs": [
    {
     "name": "stdout",
     "output_type": "stream",
     "text": [
      "12/12 [==============================] - 0s 2ms/step - loss: 0.1131 - accuracy: 0.9843\n",
      "Train score: [0.11308162659406662, 0.9842519760131836]\n",
      "6/6 [==============================] - 0s 2ms/step - loss: 0.1165 - accuracy: 0.9574\n",
      "Test score: [0.11651936173439026, 0.957446813583374]\n"
     ]
    }
   ],
   "source": [
    "print(\"Train score:\", model.evaluate(X_train, y_train))\n",
    "print(\"Test score:\", model.evaluate(X_test, y_test))"
   ]
  },
  {
   "cell_type": "code",
   "execution_count": 21,
   "metadata": {},
   "outputs": [
    {
     "data": {
      "image/png": "[encoded data removed]",
      "text/plain": [
       "<Figure size 640x480 with 1 Axes>"
      ]
     },
     "metadata": {},
     "output_type": "display_data"
    }
   ],
   "source": [
    "import matplotlib.pyplot as plt\n",
    "plt.plot(r.history['loss'], label='loss')\n",
    "plt.plot(r.history['val_loss'], label='val_loss')\n",
    "plt.legend();"
   ]
  },
  {
   "cell_type": "code",
   "execution_count": 22,
   "metadata": {},
   "outputs": [
    {
     "data": {
      "image/png": "[encoded data removed]",
      "text/plain": [
       "<Figure size 640x480 with 1 Axes>"
      ]
     },
     "metadata": {},
     "output_type": "display_data"
    }
   ],
   "source": [
    "plt.plot(r.history['accuracy'], label='acc')\n",
    "plt.plot(r.history['val_accuracy'], label='val_acc')\n",
    "plt.legend();"
   ]
  },
  {
   "cell_type": "code",
   "execution_count": 23,
   "metadata": {},
   "outputs": [
    {
     "name": "stdout",
     "output_type": "stream",
     "text": [
      "6/6 [==============================] - 0s 2ms/step\n",
      "[[2.94652698e-03]\n",
      " [9.13762450e-01]\n",
      " [6.11391738e-02]\n",
      " [9.94763136e-01]\n",
      " [9.98014867e-01]\n",
      " [9.56681013e-01]\n",
      " [1.72619857e-02]\n",
      " [3.22150849e-02]\n",
      " [6.11135624e-02]\n",
      " [9.98120964e-01]\n",
      " [1.10585836e-03]\n",
      " [2.43108229e-06]\n",
      " [4.44943845e-01]\n",
      " [1.84108876e-02]\n",
      " [9.97722089e-01]\n",
      " [9.99574661e-01]\n",
      " [7.19196498e-01]\n",
      " [8.29734921e-01]\n",
      " [9.18367684e-01]\n",
      " [9.67857659e-01]\n",
      " [9.93243011e-05]\n",
      " [2.56556738e-02]\n",
      " [9.42386806e-01]\n",
      " [2.04233062e-02]\n",
      " [1.55457202e-02]\n",
      " [9.93904471e-01]\n",
      " [2.56027188e-02]\n",
      " [9.50649738e-01]\n",
      " [9.20258582e-01]\n",
      " [4.51176660e-04]\n",
      " [2.65724870e-04]\n",
      " [8.83913708e-06]\n",
      " [9.70742762e-01]\n",
      " [9.67909098e-01]\n",
      " [9.93474364e-01]\n",
      " [1.92324296e-04]\n",
      " [9.76175129e-01]\n",
      " [4.28922504e-01]\n",
      " [3.89627740e-03]\n",
      " [6.85522735e-01]\n",
      " [9.73232627e-01]\n",
      " [6.82218024e-06]\n",
      " [9.63143051e-01]\n",
      " [2.06892379e-02]\n",
      " [6.31965578e-01]\n",
      " [7.16927826e-01]\n",
      " [5.43964028e-01]\n",
      " [9.63496327e-01]\n",
      " [9.95843112e-01]\n",
      " [8.31054509e-01]\n",
      " [1.78862014e-03]\n",
      " [9.04024243e-01]\n",
      " [2.06910148e-02]\n",
      " [2.99033429e-03]\n",
      " [9.18562293e-01]\n",
      " [9.96638060e-01]\n",
      " [9.72995460e-01]\n",
      " [1.68966278e-01]\n",
      " [9.52210009e-01]\n",
      " [9.65474188e-01]\n",
      " [9.96398985e-01]\n",
      " [8.56544316e-01]\n",
      " [6.30264163e-01]\n",
      " [9.68834162e-01]\n",
      " [7.02484846e-01]\n",
      " [9.81039107e-01]\n",
      " [9.54080403e-01]\n",
      " [9.98754799e-01]\n",
      " [9.43877935e-01]\n",
      " [1.89358488e-01]\n",
      " [2.71821111e-01]\n",
      " [1.77764497e-03]\n",
      " [7.57433236e-01]\n",
      " [1.93392336e-02]\n",
      " [1.21805169e-01]\n",
      " [3.10502574e-02]\n",
      " [9.90629554e-01]\n",
      " [3.19430046e-02]\n",
      " [8.62953141e-02]\n",
      " [9.73884106e-01]\n",
      " [7.13793099e-01]\n",
      " [9.64443147e-01]\n",
      " [2.06254281e-05]\n",
      " [9.94661570e-01]\n",
      " [4.63686956e-06]\n",
      " [2.41981503e-02]\n",
      " [9.91018832e-01]\n",
      " [5.53164305e-03]\n",
      " [9.94563580e-01]\n",
      " [1.58903364e-03]\n",
      " [9.72704709e-01]\n",
      " [7.81712413e-01]\n",
      " [7.49979913e-01]\n",
      " [9.38564122e-01]\n",
      " [2.49726581e-04]\n",
      " [8.40123475e-01]\n",
      " [9.47515130e-01]\n",
      " [7.92561829e-01]\n",
      " [9.92305160e-01]\n",
      " [8.16613138e-01]\n",
      " [2.76403676e-04]\n",
      " [9.84057307e-01]\n",
      " [6.87607750e-02]\n",
      " [9.94050324e-01]\n",
      " [4.92733747e-08]\n",
      " [9.14469957e-01]\n",
      " [9.36192989e-01]\n",
      " [1.10177971e-01]\n",
      " [2.51008272e-01]\n",
      " [9.99255478e-01]\n",
      " [8.95549953e-01]\n",
      " [9.97401118e-01]\n",
      " [9.99614179e-01]\n",
      " [9.37758923e-01]\n",
      " [9.78169084e-01]\n",
      " [1.71531993e-03]\n",
      " [9.37586308e-01]\n",
      " [8.03991139e-01]\n",
      " [5.17588317e-01]\n",
      " [2.75577162e-03]\n",
      " [9.97618914e-01]\n",
      " [9.35963392e-01]\n",
      " [9.84733343e-01]\n",
      " [7.05772817e-01]\n",
      " [9.72601473e-01]\n",
      " [1.31223649e-01]\n",
      " [4.84138429e-02]\n",
      " [2.99362140e-03]\n",
      " [3.99257153e-01]\n",
      " [9.23972607e-01]\n",
      " [8.48782420e-01]\n",
      " [9.00489867e-01]\n",
      " [9.32917058e-01]\n",
      " [1.29392296e-02]\n",
      " [5.61019063e-01]\n",
      " [7.99963772e-01]\n",
      " [9.99168932e-01]\n",
      " [9.96027231e-01]\n",
      " [2.45519239e-03]\n",
      " [2.36930326e-01]\n",
      " [9.92448449e-01]\n",
      " [9.93364096e-01]\n",
      " [1.72788277e-02]\n",
      " [9.72670555e-01]\n",
      " [2.60610366e-03]\n",
      " [9.57658112e-01]\n",
      " [6.40405774e-01]\n",
      " [7.72088766e-01]\n",
      " [9.87342358e-01]\n",
      " [8.58522803e-02]\n",
      " [9.96789813e-01]\n",
      " [1.32590532e-01]\n",
      " [6.55369580e-01]\n",
      " [9.68233705e-01]\n",
      " [9.87647533e-01]\n",
      " [3.25389614e-04]\n",
      " [1.15408525e-01]\n",
      " [1.72794808e-03]\n",
      " [9.99707818e-01]\n",
      " [9.19339538e-04]\n",
      " [7.81810462e-01]\n",
      " [9.92187142e-01]\n",
      " [9.91853654e-01]\n",
      " [9.03691828e-01]\n",
      " [6.45035459e-03]\n",
      " [1.64092344e-03]\n",
      " [9.14435506e-01]\n",
      " [9.08371866e-01]\n",
      " [8.98949742e-01]\n",
      " [2.06366792e-01]\n",
      " [9.75195706e-01]\n",
      " [5.42818685e-04]\n",
      " [8.55374694e-01]\n",
      " [7.27355361e-01]\n",
      " [2.65042275e-01]\n",
      " [1.22276191e-02]\n",
      " [1.53363302e-01]\n",
      " [9.70326582e-05]\n",
      " [9.75268960e-01]\n",
      " [3.91304731e-01]\n",
      " [9.02779281e-01]\n",
      " [9.93322015e-01]\n",
      " [9.94602978e-01]\n",
      " [9.87000227e-01]\n",
      " [1.46235079e-01]\n",
      " [3.75301199e-04]\n",
      " [9.70837593e-01]\n",
      " [9.70752060e-01]]\n"
     ]
    }
   ],
   "source": [
    "p = model.predict(X_test) \n",
    "print(p)"
   ]
  },
  {
   "cell_type": "code",
   "execution_count": 24,
   "metadata": {},
   "outputs": [
    {
     "name": "stdout",
     "output_type": "stream",
     "text": [
      "[0. 1. 0. 1. 1. 1. 0. 0. 0. 1. 0. 0. 0. 0. 1. 1. 1. 1. 1. 1. 0. 0. 1. 0.\n",
      " 0. 1. 0. 1. 1. 0. 0. 0. 1. 1. 1. 0. 1. 0. 0. 1. 1. 0. 1. 0. 1. 1. 1. 1.\n",
      " 1. 1. 0. 1. 0. 0. 1. 1. 1. 0. 1. 1. 1. 1. 1. 1. 1. 1. 1. 1. 1. 0. 0. 0.\n",
      " 1. 0. 0. 0. 1. 0. 0. 1. 1. 1. 0. 1. 0. 0. 1. 0. 1. 0. 1. 1. 1. 1. 0. 1.\n",
      " 1. 1. 1. 1. 0. 1. 0. 1. 0. 1. 1. 0. 0. 1. 1. 1. 1. 1. 1. 0. 1. 1. 1. 0.\n",
      " 1. 1. 1. 1. 1. 0. 0. 0. 0. 1. 1. 1. 1. 0. 1. 1. 1. 1. 0. 0. 1. 1. 0. 1.\n",
      " 0. 1. 1. 1. 1. 0. 1. 0. 1. 1. 1. 0. 0. 0. 1. 0. 1. 1. 1. 1. 0. 0. 1. 1.\n",
      " 1. 0. 1. 0. 1. 1. 0. 0. 0. 0. 1. 0. 1. 1. 1. 1. 0. 0. 1. 1.]\n"
     ]
    }
   ],
   "source": [
    "p = np.round(p).flatten()\n",
    "print(p)"
   ]
  },
  {
   "cell_type": "code",
   "execution_count": 25,
   "metadata": {},
   "outputs": [
    {
     "name": "stdout",
     "output_type": "stream",
     "text": [
      "6/6 [==============================] - 0s 6ms/step - loss: 0.1165 - accuracy: 0.9574\n",
      "Evaluate output : [0.11651936173439026, 0.957446813583374]\n",
      "Manually calc accuracy: 0.9574468085106383\n"
     ]
    }
   ],
   "source": [
    "print(\"Evaluate output :\", model.evaluate(X_test, y_test))\n",
    "print('Manually calc accuracy:', np.mean(p == y_test))"
   ]
  },
  {
   "cell_type": "code",
   "execution_count": null,
   "metadata": {},
   "outputs": [],
   "source": []
  },
  {
   "cell_type": "code",
   "execution_count": null,
   "metadata": {},
   "outputs": [],
   "source": []
  }
 ],
 "metadata": {
  "kernelspec": {
   "display_name": "myenv",
   "language": "python",
   "name": "python3"
  },
  "language_info": {
   "codemirror_mode": {
    "name": "ipython",
    "version": 3
   },
   "file_extension": ".py",
   "mimetype": "text/x-python",
   "name": "python",
   "nbconvert_exporter": "python",
   "pygments_lexer": "ipython3",
   "version": "3.11.3"
  },
  "orig_nbformat": 4
 },
 "nbformat": 4,
 "nbformat_minor": 2
}
